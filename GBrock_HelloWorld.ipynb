{
 "cells": [
  {
   "cell_type": "raw",
   "id": "1fd72b79-e98a-41b5-b33c-4eee68635f30",
   "metadata": {},
   "source": [
    "Hello World "
   ]
  },
  {
   "cell_type": "code",
   "execution_count": 6,
   "id": "3cc72b44-f63e-40ef-991e-ffeaa8f3fed9",
   "metadata": {},
   "outputs": [
    {
     "name": "stdout",
     "output_type": "stream",
     "text": [
      "Hello World\n"
     ]
    }
   ],
   "source": [
    "print (\"Hello World\")"
   ]
  },
  {
   "cell_type": "code",
   "execution_count": null,
   "id": "bcc1b930-1b66-496f-86df-f1ed832a6dcb",
   "metadata": {},
   "outputs": [],
   "source": []
  }
 ],
 "metadata": {
  "kernelspec": {
   "display_name": "Python 3 (ipykernel)",
   "language": "python",
   "name": "python3"
  },
  "language_info": {
   "codemirror_mode": {
    "name": "ipython",
    "version": 3
   },
   "file_extension": ".py",
   "mimetype": "text/x-python",
   "name": "python",
   "nbconvert_exporter": "python",
   "pygments_lexer": "ipython3",
   "version": "3.11.7"
  }
 },
 "nbformat": 4,
 "nbformat_minor": 5
}
