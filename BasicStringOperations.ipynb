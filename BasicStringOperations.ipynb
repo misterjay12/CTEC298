{
 "cells": [
  {
   "cell_type": "raw",
   "id": "1fd72b79-e98a-41b5-b33c-4eee68635f30",
   "metadata": {},
   "source": [
    "Basic String Operations"
   ]
  },
  {
   "cell_type": "code",
   "execution_count": 4,
   "id": "3cc72b44-f63e-40ef-991e-ffeaa8f3fed9",
   "metadata": {},
   "outputs": [
    {
     "name": "stdout",
     "output_type": "stream",
     "text": [
      "Length of s = 20\n",
      "The first occurrence of the letter a = 8\n",
      "a occurs 2 times\n",
      "The first five characters are 'Strin'\n",
      "The next five characters are 'gs ar'\n",
      "The thirteenth character is 'a'\n",
      "The characters with odd index are 'tig r wsm!'\n",
      "The last five characters are 'some!'\n",
      "String in uppercase: STRINGS ARE AWESOME!\n",
      "String in lowercase: strings are awesome!\n",
      "String starts with 'Str'. Good!\n",
      "String ends with 'ome!'. Good!\n",
      "Split the words of the string: ['Strings', 'are', 'awesome!']\n"
     ]
    }
   ],
   "source": [
    "s = \"Strings are awesome!\"\n",
    "\n",
    "print(\"Length of s = %d\" % len(s))\n",
    "\n",
    "print(\"The first occurrence of the letter a = %d\" % s.index(\"a\"))\n",
    "\n",
    "print(\"a occurs %d times\" % s.count(\"a\"))\n",
    "\n",
    "print(\"The first five characters are '%s'\" % s[:5]) \n",
    "print(\"The next five characters are '%s'\" % s[5:10]) \n",
    "print(\"The thirteenth character is '%s'\" % s[12]) \n",
    "print(\"The characters with odd index are '%s'\" %s[1::2]) \n",
    "print(\"The last five characters are '%s'\" % s[-5:]) \n",
    "\n",
    "print(\"String in uppercase: %s\" % s.upper())\n",
    "\n",
    "print(\"String in lowercase: %s\" % s.lower())\n",
    "\n",
    "if s.startswith(\"Str\"):\n",
    "    print(\"String starts with 'Str'. Good!\")\n",
    "\n",
    "if s.endswith(\"ome!\"):\n",
    "    print(\"String ends with 'ome!'. Good!\")\n",
    "\n",
    "print(\"Split the words of the string: %s\" % s.split(\" \"))"
   ]
  },
  {
   "cell_type": "code",
   "execution_count": null,
   "id": "bcc1b930-1b66-496f-86df-f1ed832a6dcb",
   "metadata": {},
   "outputs": [],
   "source": []
  }
 ],
 "metadata": {
  "kernelspec": {
   "display_name": "Python 3 (ipykernel)",
   "language": "python",
   "name": "python3"
  },
  "language_info": {
   "codemirror_mode": {
    "name": "ipython",
    "version": 3
   },
   "file_extension": ".py",
   "mimetype": "text/x-python",
   "name": "python",
   "nbconvert_exporter": "python",
   "pygments_lexer": "ipython3",
   "version": "3.11.7"
  }
 },
 "nbformat": 4,
 "nbformat_minor": 5
}
